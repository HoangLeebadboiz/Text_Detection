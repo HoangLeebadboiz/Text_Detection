{
 "cells": [
  {
   "cell_type": "code",
   "execution_count": 1,
   "metadata": {},
   "outputs": [
    {
     "name": "stdout",
     "output_type": "stream",
     "text": [
      "Tue Oct 15 08:59:41 2024       \n",
      "+---------------------------------------------------------------------------------------+\n",
      "| NVIDIA-SMI 537.32                 Driver Version: 537.32       CUDA Version: 12.2     |\n",
      "|-----------------------------------------+----------------------+----------------------+\n",
      "| GPU  Name                     TCC/WDDM  | Bus-Id        Disp.A | Volatile Uncorr. ECC |\n",
      "| Fan  Temp   Perf          Pwr:Usage/Cap |         Memory-Usage | GPU-Util  Compute M. |\n",
      "|                                         |                      |               MIG M. |\n",
      "|=========================================+======================+======================|\n",
      "|   0  NVIDIA GeForce RTX 3050 ...  WDDM  | 00000000:01:00.0 Off |                  N/A |\n",
      "| N/A   44C    P3               9W /  30W |      0MiB /  4096MiB |      0%      Default |\n",
      "|                                         |                      |                  N/A |\n",
      "+-----------------------------------------+----------------------+----------------------+\n",
      "                                                                                         \n",
      "+---------------------------------------------------------------------------------------+\n",
      "| Processes:                                                                            |\n",
      "|  GPU   GI   CI        PID   Type   Process name                            GPU Memory |\n",
      "|        ID   ID                                                             Usage      |\n",
      "|=======================================================================================|\n",
      "|  No running processes found                                                           |\n",
      "+---------------------------------------------------------------------------------------+\n"
     ]
    }
   ],
   "source": [
    "!nvidia-smi"
   ]
  },
  {
   "cell_type": "code",
   "execution_count": 12,
   "metadata": {},
   "outputs": [],
   "source": [
    "from ultralytics import YOLO\n",
    "\n",
    "# Load a model\n",
    "model = YOLO(\"./Models_One_Class/Model_l/last.pt\")  # load an official model"
   ]
  },
  {
   "cell_type": "code",
   "execution_count": 15,
   "metadata": {},
   "outputs": [
    {
     "name": "stdout",
     "output_type": "stream",
     "text": [
      "\n",
      "image 1/6 d:\\NOAS\\Text Detection_models\\Dataset\\nestlecolor\\Image_0000_20241014095543.bmp: 480x640 767.7ms\n",
      "image 2/6 d:\\NOAS\\Text Detection_models\\Dataset\\nestlecolor\\Image_0001_20241014095601.bmp: 480x640 686.5ms\n",
      "image 3/6 d:\\NOAS\\Text Detection_models\\Dataset\\nestlecolor\\Image_0002_20241014095623.bmp: 480x640 707.8ms\n",
      "image 4/6 d:\\NOAS\\Text Detection_models\\Dataset\\nestlecolor\\Image_0003_20241014095647.bmp: 480x640 699.3ms\n",
      "image 5/6 d:\\NOAS\\Text Detection_models\\Dataset\\nestlecolor\\Image_0004_20241014095704.bmp: 480x640 692.2ms\n",
      "image 6/6 d:\\NOAS\\Text Detection_models\\Dataset\\nestlecolor\\Image_0005_20241014095725.bmp: 480x640 756.1ms\n",
      "Speed: 11.0ms preprocess, 718.3ms inference, 3.5ms postprocess per image at shape (1, 3, 480, 640)\n"
     ]
    }
   ],
   "source": [
    "# Inference\n",
    "predict = model.predict(\"./Dataset/nestlecolor/\")"
   ]
  },
  {
   "cell_type": "code",
   "execution_count": 17,
   "metadata": {},
   "outputs": [],
   "source": [
    "for result in predict:\n",
    "    result.show(labels=False)\n",
    "    result.save(filename=\"./Results/result.png\")"
   ]
  },
  {
   "cell_type": "code",
   "execution_count": null,
   "metadata": {},
   "outputs": [],
   "source": []
  }
 ],
 "metadata": {
  "kernelspec": {
   "display_name": "Python 3",
   "language": "python",
   "name": "python3"
  },
  "language_info": {
   "codemirror_mode": {
    "name": "ipython",
    "version": 3
   },
   "file_extension": ".py",
   "mimetype": "text/x-python",
   "name": "python",
   "nbconvert_exporter": "python",
   "pygments_lexer": "ipython3",
   "version": "3.10.9"
  }
 },
 "nbformat": 4,
 "nbformat_minor": 2
}
